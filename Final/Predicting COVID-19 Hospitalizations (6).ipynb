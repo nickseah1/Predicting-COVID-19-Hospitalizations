{
 "cells": [
  {
   "cell_type": "markdown",
   "metadata": {},
   "source": [
    "# Predicting COVID-19 Hospitalizations"
   ]
  },
  {
   "cell_type": "code",
   "execution_count": 1,
   "metadata": {},
   "outputs": [],
   "source": [
    "import pandas as pd\n",
    "import matplotlib.pyplot as plt\n",
    "import numpy as np\n",
    "import seaborn as sns\n",
    "import sklearn\n",
    "import filterpy\n",
    "from pandas import DataFrame\n",
    "from statsmodels.graphics.tsaplots import plot_pacf\n",
    "import warnings\n",
    "from math import sqrt\n",
    "from pandas import read_csv\n",
    "from statsmodels.tsa.arima.model import ARIMA\n",
    "from sklearn.metrics import mean_squared_error\n"
   ]
  },
  {
   "cell_type": "markdown",
   "metadata": {},
   "source": [
    "# We will predict the daily hospitalizations in AZ for 3/8/21 - 3/14/21 and compute accuracy based on data from the ADHS\n",
    "    https://www.azdhs.gov/covid19/data/index.php#hospitalization"
   ]
  },
  {
   "cell_type": "code",
   "execution_count": 2,
   "metadata": {},
   "outputs": [],
   "source": [
    "test_series = pd.Series([68, 74, 66, 36, 57, 45,37])"
   ]
  },
  {
   "cell_type": "code",
   "execution_count": 3,
   "metadata": {},
   "outputs": [],
   "source": [
    "train_df = pd.read_csv('arizona-history.csv')\n",
    "train_df = train_df[0:308]\n",
    "# No Hos Data\n",
    "# CA_df = pd.read_csv('california-history.csv')\n",
    "# CO_df = pd.read_csv('colorado-history.csv')\n",
    "# #No Hos Data\n",
    "# FL_df = pd.read_csv('florida-history.csv')\n",
    "# # No Hos Data\n",
    "# IL_df = pd.read_csv('illinois-history.csv')\n",
    "# NM_df = pd.read_csv('new-mexico-history.csv')\n",
    "# # No Hos Data\n",
    "# NY_df = pd.read_csv('new-york-history.csv')\n",
    "# # No Hos Data\n",
    "# TX_df = pd.read_csv('texas-history.csv')\n",
    "# VA_df = pd.read_csv('virginia-history.csv')\n",
    "# WA_df = pd.read_csv('washington-history.csv')\n",
    "\n"
   ]
  },
  {
   "cell_type": "code",
   "execution_count": 4,
   "metadata": {},
   "outputs": [],
   "source": [
    "def dt_function(df):\n",
    "    \n",
    "    df['date'] = pd.to_datetime(df['date'])\n",
    "    col_list = ['date', 'hospitalizedIncrease']\n",
    "    df = df[col_list]\n",
    "    df['hospitalizedIncrease'] = np.abs(df['hospitalizedIncrease'])\n",
    "    df = df.sort_values('date')\n",
    "    return df"
   ]
  },
  {
   "cell_type": "code",
   "execution_count": 5,
   "metadata": {},
   "outputs": [
    {
     "name": "stderr",
     "output_type": "stream",
     "text": [
      "<ipython-input-4-d53a58811178>:6: SettingWithCopyWarning: \n",
      "A value is trying to be set on a copy of a slice from a DataFrame.\n",
      "Try using .loc[row_indexer,col_indexer] = value instead\n",
      "\n",
      "See the caveats in the documentation: https://pandas.pydata.org/pandas-docs/stable/user_guide/indexing.html#returning-a-view-versus-a-copy\n",
      "  df['hospitalizedIncrease'] = np.abs(df['hospitalizedIncrease'])\n"
     ]
    }
   ],
   "source": [
    "train_df= dt_function(train_df)\n",
    "# CA_df = dt_function(CA_df)\n",
    "# CO_df=dt_function(CO_df)\n",
    "# FL_df=dt_function(FL_df)\n",
    "# IL_df=dt_function(IL_df)\n",
    "# NM_df=dt_function(NM_df)\n",
    "# NY_df=dt_function(NY_df)\n",
    "# TX_df=dt_function(TX_df)\n",
    "# VA_df=dt_function(VA_df)\n",
    "# WA_df=dt_function(WA_df)"
   ]
  },
  {
   "cell_type": "code",
   "execution_count": 43,
   "metadata": {},
   "outputs": [
    {
     "data": {
      "text/html": [
       "<div>\n",
       "<style scoped>\n",
       "    .dataframe tbody tr th:only-of-type {\n",
       "        vertical-align: middle;\n",
       "    }\n",
       "\n",
       "    .dataframe tbody tr th {\n",
       "        vertical-align: top;\n",
       "    }\n",
       "\n",
       "    .dataframe thead th {\n",
       "        text-align: right;\n",
       "    }\n",
       "</style>\n",
       "<table border=\"1\" class=\"dataframe\">\n",
       "  <thead>\n",
       "    <tr style=\"text-align: right;\">\n",
       "      <th></th>\n",
       "      <th>date</th>\n",
       "      <th>hospitalizedIncrease</th>\n",
       "    </tr>\n",
       "  </thead>\n",
       "  <tbody>\n",
       "    <tr>\n",
       "      <th>307</th>\n",
       "      <td>2020-05-04</td>\n",
       "      <td>46</td>\n",
       "    </tr>\n",
       "    <tr>\n",
       "      <th>306</th>\n",
       "      <td>2020-05-05</td>\n",
       "      <td>57</td>\n",
       "    </tr>\n",
       "    <tr>\n",
       "      <th>305</th>\n",
       "      <td>2020-05-06</td>\n",
       "      <td>52</td>\n",
       "    </tr>\n",
       "    <tr>\n",
       "      <th>304</th>\n",
       "      <td>2020-05-07</td>\n",
       "      <td>48</td>\n",
       "    </tr>\n",
       "    <tr>\n",
       "      <th>303</th>\n",
       "      <td>2020-05-08</td>\n",
       "      <td>58</td>\n",
       "    </tr>\n",
       "    <tr>\n",
       "      <th>...</th>\n",
       "      <td>...</td>\n",
       "      <td>...</td>\n",
       "    </tr>\n",
       "    <tr>\n",
       "      <th>4</th>\n",
       "      <td>2021-03-03</td>\n",
       "      <td>106</td>\n",
       "    </tr>\n",
       "    <tr>\n",
       "      <th>3</th>\n",
       "      <td>2021-03-04</td>\n",
       "      <td>50</td>\n",
       "    </tr>\n",
       "    <tr>\n",
       "      <th>2</th>\n",
       "      <td>2021-03-05</td>\n",
       "      <td>72</td>\n",
       "    </tr>\n",
       "    <tr>\n",
       "      <th>1</th>\n",
       "      <td>2021-03-06</td>\n",
       "      <td>44</td>\n",
       "    </tr>\n",
       "    <tr>\n",
       "      <th>0</th>\n",
       "      <td>2021-03-07</td>\n",
       "      <td>44</td>\n",
       "    </tr>\n",
       "  </tbody>\n",
       "</table>\n",
       "<p>308 rows × 2 columns</p>\n",
       "</div>"
      ],
      "text/plain": [
       "          date  hospitalizedIncrease\n",
       "307 2020-05-04                    46\n",
       "306 2020-05-05                    57\n",
       "305 2020-05-06                    52\n",
       "304 2020-05-07                    48\n",
       "303 2020-05-08                    58\n",
       "..         ...                   ...\n",
       "4   2021-03-03                   106\n",
       "3   2021-03-04                    50\n",
       "2   2021-03-05                    72\n",
       "1   2021-03-06                    44\n",
       "0   2021-03-07                    44\n",
       "\n",
       "[308 rows x 2 columns]"
      ]
     },
     "execution_count": 43,
     "metadata": {},
     "output_type": "execute_result"
    }
   ],
   "source": [
    "train_df"
   ]
  },
  {
   "cell_type": "code",
   "execution_count": 6,
   "metadata": {},
   "outputs": [],
   "source": [
    "def plot_f(df):    \n",
    "    dates = df['date']\n",
    "    daily_hos = df['hospitalizedIncrease']\n",
    "\n",
    "    plt.plot(dates, daily_hos)\n",
    "    plt.xlabel('Time')\n",
    "    plt.ylabel('Daily Hospitalizations')\n",
    "    plt.title('Daily Hospitalizations')"
   ]
  },
  {
   "cell_type": "code",
   "execution_count": 7,
   "metadata": {},
   "outputs": [
    {
     "data": {
      "image/png": "[encoded data removed]",
      "text/plain": [
       "<Figure size 1440x360 with 1 Axes>"
      ]
     },
     "metadata": {
      "needs_background": "light"
     },
     "output_type": "display_data"
    }
   ],
   "source": [
    "plt.figure(figsize = (20,5))\n",
    "plot_f(train_df)"
   ]
  },
  {
   "cell_type": "code",
   "execution_count": 8,
   "metadata": {},
   "outputs": [
    {
     "data": {
      "text/plain": [
       "count     308.000000\n",
       "mean      197.207792\n",
       "std       400.235691\n",
       "min         0.000000\n",
       "25%        36.750000\n",
       "50%        75.000000\n",
       "75%       218.000000\n",
       "max      5173.000000\n",
       "Name: hospitalizedIncrease, dtype: float64"
      ]
     },
     "execution_count": 8,
     "metadata": {},
     "output_type": "execute_result"
    }
   ],
   "source": [
    "train_df['hospitalizedIncrease'].describe()"
   ]
  },
  {
   "cell_type": "markdown",
   "metadata": {},
   "source": [
    "# ARIMA Forecasting\n",
    "    \n",
    "    p = number of lag observations included in the model (lag order)\n",
    "    d = number of times that the raw observations are differences (degree of differencing)\n",
    "    q = size of moving average window (order of moving average)"
   ]
  },
  {
   "cell_type": "code",
   "execution_count": 9,
   "metadata": {},
   "outputs": [
    {
     "data": {
      "image/png": "[encoded data removed]",
      "text/plain": [
       "<Figure size 432x288 with 1 Axes>"
      ]
     },
     "metadata": {
      "needs_background": "light"
     },
     "output_type": "display_data"
    }
   ],
   "source": [
    "from pandas.plotting import autocorrelation_plot\n",
    "from matplotlib import pyplot\n",
    "from statsmodels.tsa.arima.model import ARIMA\n",
    "\n",
    "autocorrelation_plot(train_df['hospitalizedIncrease'])\n",
    "pyplot.show()\n",
    "\n",
    "# q value will be around 10 based on the ACF"
   ]
  },
  {
   "cell_type": "code",
   "execution_count": 10,
   "metadata": {},
   "outputs": [
    {
     "data": {
      "image/png": "[encoded data removed]",
      "text/plain": [
       "<Figure size 432x288 with 1 Axes>"
      ]
     },
     "metadata": {
      "needs_background": "light"
     },
     "output_type": "display_data"
    }
   ],
   "source": [
    "plot_pacf(train_df['hospitalizedIncrease'])\n",
    "plt.show()\n",
    "\n",
    "# p value of 7 from the PACF"
   ]
  },
  {
   "cell_type": "code",
   "execution_count": 11,
   "metadata": {},
   "outputs": [],
   "source": [
    "def difference(dataset, interval=1):\n",
    "    diff = list()\n",
    "    for i in range(interval, len(dataset)):\n",
    "        value = dataset[i] - dataset[i - interval]\n",
    "        diff.append(value)\n",
    "    return np.array(diff)\n"
   ]
  },
  {
   "cell_type": "code",
   "execution_count": 12,
   "metadata": {},
   "outputs": [],
   "source": [
    "def inverse_difference(history, yhat, interval=1):\n",
    "\treturn yhat + history[-interval]\n"
   ]
  },
  {
   "cell_type": "code",
   "execution_count": 13,
   "metadata": {},
   "outputs": [
    {
     "name": "stderr",
     "output_type": "stream",
     "text": [
      "/Users/nickseah/Desktop/PythonAddOns/anaconda3/lib/python3.8/site-packages/statsmodels/tsa/base/tsa_model.py:213: ValueWarning: An unsupported index was provided and will be ignored when e.g. forecasting.\n",
      "  warnings.warn('An unsupported index was provided and will be'\n",
      "/Users/nickseah/Desktop/PythonAddOns/anaconda3/lib/python3.8/site-packages/statsmodels/tsa/base/tsa_model.py:213: ValueWarning: An unsupported index was provided and will be ignored when e.g. forecasting.\n",
      "  warnings.warn('An unsupported index was provided and will be'\n",
      "/Users/nickseah/Desktop/PythonAddOns/anaconda3/lib/python3.8/site-packages/statsmodels/tsa/base/tsa_model.py:213: ValueWarning: An unsupported index was provided and will be ignored when e.g. forecasting.\n",
      "  warnings.warn('An unsupported index was provided and will be'\n",
      "/Users/nickseah/Desktop/PythonAddOns/anaconda3/lib/python3.8/site-packages/statsmodels/tsa/statespace/sarimax.py:975: UserWarning: Non-invertible starting MA parameters found. Using zeros as starting parameters.\n",
      "  warn('Non-invertible starting MA parameters found.'\n"
     ]
    },
    {
     "name": "stdout",
     "output_type": "stream",
     "text": [
      "                                SARIMAX Results                                 \n",
      "================================================================================\n",
      "Dep. Variable:     hospitalizedIncrease   No. Observations:                  308\n",
      "Model:                   ARIMA(3, 2, 9)   Log Likelihood               -2254.291\n",
      "Date:                  Sun, 18 Apr 2021   AIC                           4534.583\n",
      "Time:                          10:08:23   BIC                           4582.989\n",
      "Sample:                               0   HQIC                          4553.942\n",
      "                                  - 308                                         \n",
      "Covariance Type:                    opg                                         \n",
      "==============================================================================\n",
      "                 coef    std err          z      P>|z|      [0.025      0.975]\n",
      "------------------------------------------------------------------------------\n",
      "ar.L1         -2.1022      0.304     -6.917      0.000      -2.698      -1.506\n",
      "ar.L2         -2.0177      0.420     -4.803      0.000      -2.841      -1.194\n",
      "ar.L3         -0.7949      0.280     -2.837      0.005      -1.344      -0.246\n",
      "ma.L1          0.2425      0.346      0.702      0.483      -0.435       0.920\n",
      "ma.L2         -1.1152      0.252     -4.425      0.000      -1.609      -0.621\n",
      "ma.L3         -1.0833      0.300     -3.615      0.000      -1.671      -0.496\n",
      "ma.L4          0.2222      0.252      0.882      0.378      -0.271       0.716\n",
      "ma.L5          0.6555      0.255      2.574      0.010       0.156       1.155\n",
      "ma.L6          0.1226      0.164      0.746      0.456      -0.200       0.445\n",
      "ma.L7          0.1515      0.158      0.959      0.338      -0.158       0.461\n",
      "ma.L8          0.0156      0.090      0.173      0.863      -0.161       0.192\n",
      "ma.L9         -0.2084      0.103     -2.027      0.043      -0.410      -0.007\n",
      "sigma2      1.731e+05    2.4e+04      7.207      0.000    1.26e+05     2.2e+05\n",
      "===================================================================================\n",
      "Ljung-Box (Q):                       15.44   Jarque-Bera (JB):             47930.51\n",
      "Prob(Q):                              1.00   Prob(JB):                         0.00\n",
      "Heteroskedasticity (H):               0.21   Skew:                             5.80\n",
      "Prob(H) (two-sided):                  0.00   Kurtosis:                        63.21\n",
      "===================================================================================\n",
      "\n",
      "Warnings:\n",
      "[1] Covariance matrix calculated using the outer product of gradients (complex-step).\n",
      "11.820273288905568\n"
     ]
    },
    {
     "name": "stderr",
     "output_type": "stream",
     "text": [
      "/Users/nickseah/Desktop/PythonAddOns/anaconda3/lib/python3.8/site-packages/statsmodels/base/model.py:567: ConvergenceWarning: Maximum Likelihood optimization failed to converge. Check mle_retvals\n",
      "  warn(\"Maximum Likelihood optimization failed to converge. \"\n",
      "/Users/nickseah/Desktop/PythonAddOns/anaconda3/lib/python3.8/site-packages/statsmodels/tsa/base/tsa_model.py:580: ValueWarning: No supported index is available. Prediction results will be given with an integer index beginning at `start`.\n",
      "  warnings.warn('No supported index is available.'\n"
     ]
    }
   ],
   "source": [
    "# ARIMA Model\n",
    "model = ARIMA(train_df['hospitalizedIncrease'], order = (3 , 2,9))\n",
    "model_fit = model.fit()\n",
    "forecast = model_fit.forecast(steps = 7)\n",
    "\n",
    "\n",
    "\n",
    "ARIMA_RMSE = sqrt(mean_squared_error(test_series, forecast))\n",
    "\n",
    "\n",
    "\n",
    "warnings.filterwarnings(\"ignore\")\n",
    "print(model_fit.summary())\n",
    "print(ARIMA_RMSE)"
   ]
  },
  {
   "cell_type": "code",
   "execution_count": 14,
   "metadata": {},
   "outputs": [],
   "source": [
    "\n",
    "# evaluate an ARIMA model for a given order (p,d,q)\n",
    "def evaluate_arima_model(X, arima_order):\n",
    "    model = ARIMA(X['hospitalizedIncrease'], order = arima_order)\n",
    "    model_fit = model.fit()\n",
    "    forecast = model_fit.forecast(steps = 7)\n",
    "\n",
    "\n",
    "\n",
    "    ARIMA_RMSE = sqrt(mean_squared_error(test_series, forecast))\n",
    "    return ARIMA_RMSE\n"
   ]
  },
  {
   "cell_type": "code",
   "execution_count": 15,
   "metadata": {},
   "outputs": [
    {
     "data": {
      "text/plain": [
       "27.987589629473234"
      ]
     },
     "execution_count": 15,
     "metadata": {},
     "output_type": "execute_result"
    }
   ],
   "source": [
    "order = (10,1,7)\n",
    "evaluate_arima_model(train_df, order)"
   ]
  },
  {
   "cell_type": "code",
   "execution_count": 16,
   "metadata": {},
   "outputs": [],
   "source": [
    "def evaluate_models(dataset, p_values, d_values, q_values):\n",
    "    dataset = dataset[:308]\n",
    "    best_score, best_cfg = float(\"inf\"), None\n",
    "    for p in p_values:\n",
    "        for d in d_values:\n",
    "            for q in q_values:\n",
    "                order = (p,d,q)\n",
    "                try:\n",
    "                    rmse = evaluate_arima_model(dataset, order)\n",
    "                    if rmse < best_score:\n",
    "                        best_score, best_cfg = rmse, order\n",
    "                    print('ARIMA%s RMSE=%.3f' % (order,rmse))\n",
    "                except:\n",
    "                    continue\n",
    "    print('Best ARIMA%s RMSE=%.3f' % (best_cfg, best_score))"
   ]
  },
  {
   "cell_type": "markdown",
   "metadata": {},
   "source": [
    "# Grid Search Hyper Parameters for ARIMA"
   ]
  },
  {
   "cell_type": "code",
   "execution_count": 17,
   "metadata": {},
   "outputs": [
    {
     "name": "stdout",
     "output_type": "stream",
     "text": [
      "ARIMA(0, 0, 0) RMSE=143.213\n",
      "ARIMA(0, 0, 1) RMSE=140.772\n",
      "ARIMA(0, 0, 2) RMSE=138.800\n",
      "ARIMA(0, 0, 3) RMSE=131.694\n",
      "ARIMA(0, 0, 4) RMSE=132.590\n",
      "ARIMA(0, 0, 5) RMSE=131.334\n",
      "ARIMA(0, 0, 6) RMSE=123.296\n",
      "ARIMA(0, 0, 7) RMSE=119.132\n",
      "ARIMA(0, 0, 8) RMSE=107.564\n",
      "ARIMA(0, 0, 9) RMSE=100.982\n",
      "ARIMA(0, 1, 0) RMSE=17.901\n",
      "ARIMA(0, 1, 1) RMSE=38.837\n",
      "ARIMA(0, 1, 2) RMSE=38.034\n",
      "ARIMA(0, 1, 3) RMSE=28.399\n",
      "ARIMA(0, 1, 4) RMSE=47.737\n",
      "ARIMA(0, 1, 5) RMSE=16.470\n",
      "ARIMA(0, 1, 6) RMSE=12.767\n",
      "ARIMA(0, 1, 7) RMSE=15.789\n",
      "ARIMA(0, 1, 8) RMSE=13.776\n",
      "ARIMA(0, 1, 9) RMSE=24.464\n",
      "ARIMA(0, 2, 0) RMSE=17.901\n",
      "ARIMA(0, 2, 1) RMSE=17.879\n",
      "ARIMA(0, 2, 2) RMSE=37.193\n",
      "ARIMA(0, 2, 3) RMSE=35.953\n",
      "ARIMA(0, 2, 4) RMSE=26.491\n",
      "ARIMA(0, 2, 5) RMSE=42.848\n",
      "ARIMA(0, 2, 6) RMSE=14.442\n",
      "ARIMA(0, 2, 7) RMSE=12.419\n",
      "ARIMA(0, 2, 8) RMSE=13.791\n",
      "ARIMA(0, 2, 9) RMSE=12.352\n",
      "ARIMA(1, 0, 0) RMSE=139.365\n",
      "ARIMA(1, 0, 1) RMSE=72.498\n",
      "ARIMA(1, 0, 2) RMSE=71.370\n",
      "ARIMA(1, 0, 3) RMSE=65.726\n",
      "ARIMA(1, 0, 4) RMSE=73.663\n",
      "ARIMA(1, 0, 5) RMSE=55.073\n",
      "ARIMA(1, 0, 6) RMSE=51.153\n",
      "ARIMA(1, 0, 7) RMSE=51.326\n",
      "ARIMA(1, 0, 8) RMSE=57.729\n",
      "ARIMA(1, 0, 9) RMSE=51.161\n",
      "ARIMA(1, 1, 0) RMSE=17.901\n",
      "ARIMA(1, 1, 1) RMSE=38.138\n",
      "ARIMA(1, 1, 2) RMSE=43.217\n",
      "ARIMA(1, 1, 3) RMSE=32.141\n",
      "ARIMA(1, 1, 4) RMSE=44.900\n",
      "ARIMA(1, 1, 5) RMSE=13.268\n",
      "ARIMA(1, 1, 6) RMSE=13.618\n",
      "ARIMA(1, 1, 7) RMSE=14.262\n",
      "ARIMA(1, 1, 8) RMSE=12.842\n",
      "ARIMA(1, 1, 9) RMSE=52.210\n",
      "ARIMA(1, 2, 0) RMSE=59.871\n",
      "ARIMA(1, 2, 1) RMSE=17.898\n",
      "ARIMA(1, 2, 2) RMSE=36.116\n",
      "ARIMA(1, 2, 3) RMSE=38.221\n",
      "ARIMA(1, 2, 4) RMSE=35.834\n",
      "ARIMA(1, 2, 5) RMSE=26.418\n",
      "ARIMA(1, 2, 6) RMSE=44.831\n",
      "ARIMA(1, 2, 7) RMSE=24.082\n",
      "ARIMA(1, 2, 8) RMSE=23.489\n",
      "ARIMA(1, 2, 9) RMSE=28.362\n",
      "ARIMA(2, 0, 0) RMSE=134.104\n",
      "ARIMA(2, 0, 1) RMSE=71.539\n",
      "ARIMA(2, 0, 2) RMSE=74.703\n",
      "ARIMA(2, 0, 3) RMSE=68.445\n",
      "ARIMA(2, 0, 4) RMSE=73.728\n",
      "ARIMA(2, 0, 5) RMSE=50.697\n",
      "ARIMA(2, 0, 6) RMSE=52.131\n",
      "ARIMA(2, 0, 7) RMSE=51.554\n",
      "ARIMA(2, 0, 8) RMSE=50.772\n",
      "ARIMA(2, 0, 9) RMSE=51.069\n",
      "ARIMA(2, 1, 0) RMSE=15.289\n",
      "ARIMA(2, 1, 1) RMSE=31.344\n",
      "ARIMA(2, 1, 2) RMSE=31.631\n",
      "ARIMA(2, 1, 3) RMSE=38.073\n",
      "ARIMA(2, 1, 4) RMSE=58.969\n",
      "ARIMA(2, 1, 5) RMSE=13.590\n",
      "ARIMA(2, 1, 6) RMSE=14.446\n",
      "ARIMA(2, 1, 7) RMSE=44.025\n",
      "ARIMA(2, 1, 8) RMSE=46.344\n",
      "ARIMA(2, 1, 9) RMSE=49.173\n",
      "ARIMA(2, 2, 0) RMSE=33.627\n",
      "ARIMA(2, 2, 1) RMSE=15.287\n",
      "ARIMA(2, 2, 2) RMSE=29.568\n",
      "ARIMA(2, 2, 3) RMSE=35.952\n",
      "ARIMA(2, 2, 4) RMSE=36.229\n",
      "ARIMA(2, 2, 5) RMSE=46.215\n",
      "ARIMA(2, 2, 6) RMSE=44.862\n",
      "ARIMA(2, 2, 7) RMSE=49.579\n",
      "ARIMA(2, 2, 8) RMSE=34.629\n",
      "ARIMA(2, 2, 9) RMSE=31.857\n",
      "ARIMA(3, 0, 0) RMSE=116.782\n",
      "ARIMA(3, 0, 1) RMSE=122.615\n",
      "ARIMA(3, 0, 2) RMSE=68.574\n",
      "ARIMA(3, 0, 3) RMSE=72.208\n",
      "ARIMA(3, 0, 4) RMSE=69.658\n",
      "ARIMA(3, 0, 5) RMSE=47.844\n",
      "ARIMA(3, 0, 6) RMSE=50.608\n",
      "ARIMA(3, 0, 7) RMSE=52.007\n",
      "ARIMA(3, 0, 8) RMSE=51.538\n",
      "ARIMA(3, 0, 9) RMSE=49.506\n",
      "ARIMA(3, 1, 0) RMSE=14.692\n",
      "ARIMA(3, 1, 1) RMSE=43.396\n",
      "ARIMA(3, 1, 2) RMSE=42.805\n",
      "ARIMA(3, 1, 3) RMSE=32.975\n",
      "ARIMA(3, 1, 4) RMSE=40.352\n",
      "ARIMA(3, 1, 5) RMSE=12.787\n",
      "ARIMA(3, 1, 6) RMSE=13.137\n",
      "ARIMA(3, 1, 7) RMSE=47.617\n",
      "ARIMA(3, 1, 8) RMSE=41.717\n",
      "ARIMA(3, 1, 9) RMSE=34.451\n",
      "ARIMA(3, 2, 0) RMSE=50.235\n",
      "ARIMA(3, 2, 1) RMSE=14.708\n",
      "ARIMA(3, 2, 2) RMSE=15.296\n",
      "ARIMA(3, 2, 3) RMSE=29.613\n",
      "ARIMA(3, 2, 4) RMSE=48.252\n",
      "ARIMA(3, 2, 5) RMSE=31.626\n",
      "ARIMA(3, 2, 6) RMSE=54.248\n",
      "ARIMA(3, 2, 7) RMSE=30.623\n",
      "ARIMA(3, 2, 8) RMSE=20.369\n",
      "ARIMA(3, 2, 9) RMSE=11.820\n",
      "ARIMA(4, 0, 0) RMSE=121.551\n",
      "ARIMA(4, 0, 1) RMSE=121.662\n",
      "ARIMA(4, 0, 2) RMSE=72.999\n",
      "ARIMA(4, 0, 3) RMSE=69.518\n",
      "ARIMA(4, 0, 4) RMSE=64.144\n",
      "ARIMA(4, 0, 5) RMSE=62.757\n",
      "ARIMA(4, 0, 6) RMSE=57.649\n",
      "ARIMA(4, 0, 7) RMSE=50.789\n",
      "ARIMA(4, 0, 8) RMSE=56.778\n",
      "ARIMA(4, 0, 9) RMSE=70.285\n",
      "ARIMA(4, 1, 0) RMSE=14.449\n",
      "ARIMA(4, 1, 1) RMSE=23.265\n",
      "ARIMA(4, 1, 2) RMSE=112.696\n",
      "ARIMA(4, 1, 3) RMSE=14.867\n",
      "ARIMA(4, 1, 4) RMSE=31.168\n",
      "ARIMA(4, 1, 5) RMSE=48.148\n",
      "ARIMA(4, 1, 6) RMSE=40.762\n",
      "ARIMA(4, 1, 7) RMSE=38.950\n",
      "ARIMA(4, 1, 8) RMSE=31.266\n",
      "ARIMA(4, 1, 9) RMSE=27.724\n",
      "ARIMA(4, 2, 0) RMSE=22.222\n",
      "ARIMA(4, 2, 1) RMSE=14.494\n",
      "ARIMA(4, 2, 2) RMSE=14.709\n",
      "ARIMA(4, 2, 3) RMSE=15.739\n",
      "ARIMA(4, 2, 4) RMSE=22.604\n",
      "ARIMA(4, 2, 5) RMSE=30.291\n",
      "ARIMA(4, 2, 6) RMSE=57.842\n",
      "ARIMA(4, 2, 7) RMSE=51.528\n",
      "ARIMA(4, 2, 8) RMSE=42.875\n",
      "ARIMA(4, 2, 9) RMSE=17.535\n",
      "ARIMA(5, 0, 0) RMSE=109.585\n",
      "ARIMA(5, 0, 1) RMSE=63.245\n",
      "ARIMA(5, 0, 2) RMSE=56.163\n",
      "ARIMA(5, 0, 3) RMSE=55.906\n",
      "ARIMA(5, 0, 4) RMSE=57.413\n",
      "ARIMA(5, 0, 5) RMSE=78.336\n",
      "ARIMA(5, 0, 6) RMSE=65.255\n",
      "ARIMA(5, 0, 7) RMSE=70.246\n",
      "ARIMA(5, 0, 8) RMSE=68.222\n",
      "ARIMA(5, 0, 9) RMSE=69.709\n",
      "ARIMA(5, 1, 0) RMSE=13.948\n",
      "ARIMA(5, 1, 1) RMSE=18.109\n",
      "ARIMA(5, 1, 2) RMSE=22.051\n",
      "ARIMA(5, 1, 3) RMSE=20.482\n",
      "ARIMA(5, 1, 4) RMSE=15.380\n",
      "ARIMA(5, 1, 5) RMSE=43.463\n",
      "ARIMA(5, 1, 6) RMSE=43.387\n",
      "ARIMA(5, 1, 7) RMSE=45.660\n",
      "ARIMA(5, 1, 8) RMSE=33.323\n",
      "ARIMA(5, 1, 9) RMSE=30.743\n",
      "ARIMA(5, 2, 0) RMSE=15.899\n",
      "ARIMA(5, 2, 1) RMSE=13.985\n",
      "ARIMA(5, 2, 2) RMSE=148.112\n",
      "ARIMA(5, 2, 3) RMSE=36.308\n",
      "ARIMA(5, 2, 4) RMSE=47.565\n",
      "ARIMA(5, 2, 5) RMSE=37.182\n",
      "ARIMA(5, 2, 6) RMSE=53.452\n",
      "ARIMA(5, 2, 7) RMSE=38.360\n",
      "ARIMA(5, 2, 8) RMSE=40.174\n",
      "ARIMA(5, 2, 9) RMSE=37.338\n",
      "ARIMA(6, 0, 0) RMSE=94.843\n",
      "ARIMA(6, 0, 1) RMSE=59.380\n",
      "ARIMA(6, 0, 2) RMSE=61.707\n",
      "ARIMA(6, 0, 3) RMSE=55.765\n",
      "ARIMA(6, 0, 4) RMSE=53.118\n",
      "ARIMA(6, 0, 5) RMSE=58.831\n",
      "ARIMA(6, 0, 6) RMSE=67.053\n",
      "ARIMA(6, 0, 7) RMSE=70.334\n",
      "ARIMA(6, 0, 8) RMSE=57.703\n",
      "ARIMA(6, 0, 9) RMSE=70.535\n",
      "ARIMA(6, 1, 0) RMSE=15.702\n",
      "ARIMA(6, 1, 1) RMSE=15.891\n",
      "ARIMA(6, 1, 2) RMSE=15.578\n",
      "ARIMA(6, 1, 3) RMSE=34.984\n",
      "ARIMA(6, 1, 4) RMSE=52.149\n",
      "ARIMA(6, 1, 5) RMSE=40.763\n",
      "ARIMA(6, 1, 6) RMSE=37.862\n",
      "ARIMA(6, 1, 7) RMSE=31.728\n",
      "ARIMA(6, 1, 8) RMSE=36.028\n",
      "ARIMA(6, 1, 9) RMSE=33.664\n",
      "ARIMA(6, 2, 0) RMSE=12.122\n",
      "ARIMA(6, 2, 1) RMSE=15.687\n",
      "ARIMA(6, 2, 2) RMSE=13.988\n",
      "ARIMA(6, 2, 3) RMSE=17.673\n",
      "ARIMA(6, 2, 4) RMSE=24.512\n",
      "ARIMA(6, 2, 5) RMSE=35.526\n",
      "ARIMA(6, 2, 6) RMSE=47.073\n",
      "ARIMA(6, 2, 7) RMSE=28.090\n",
      "ARIMA(6, 2, 8) RMSE=42.291\n",
      "ARIMA(6, 2, 9) RMSE=34.152\n",
      "ARIMA(7, 0, 0) RMSE=79.861\n",
      "ARIMA(7, 0, 1) RMSE=56.806\n",
      "ARIMA(7, 0, 2) RMSE=57.813\n",
      "ARIMA(7, 0, 3) RMSE=56.789\n",
      "ARIMA(7, 0, 4) RMSE=54.600\n",
      "ARIMA(7, 0, 5) RMSE=54.983\n",
      "ARIMA(7, 0, 6) RMSE=65.708\n",
      "ARIMA(7, 0, 7) RMSE=61.937\n",
      "ARIMA(7, 0, 8) RMSE=58.165\n",
      "ARIMA(7, 0, 9) RMSE=66.233\n",
      "ARIMA(7, 1, 0) RMSE=19.568\n",
      "ARIMA(7, 1, 1) RMSE=16.315\n",
      "ARIMA(7, 1, 2) RMSE=16.292\n",
      "ARIMA(7, 1, 3) RMSE=17.809\n",
      "ARIMA(7, 1, 4) RMSE=36.866\n",
      "ARIMA(7, 1, 5) RMSE=39.393\n",
      "ARIMA(7, 1, 6) RMSE=37.337\n",
      "ARIMA(7, 1, 7) RMSE=41.103\n",
      "ARIMA(7, 1, 8) RMSE=29.972\n",
      "ARIMA(7, 1, 9) RMSE=34.089\n",
      "ARIMA(7, 2, 0) RMSE=18.969\n",
      "ARIMA(7, 2, 1) RMSE=19.516\n",
      "ARIMA(7, 2, 2) RMSE=86.407\n",
      "ARIMA(7, 2, 3) RMSE=21.574\n",
      "ARIMA(7, 2, 4) RMSE=17.725\n",
      "ARIMA(7, 2, 5) RMSE=21.782\n",
      "ARIMA(7, 2, 6) RMSE=19.691\n",
      "ARIMA(7, 2, 7) RMSE=18.409\n",
      "ARIMA(7, 2, 8) RMSE=37.182\n",
      "ARIMA(7, 2, 9) RMSE=33.542\n",
      "ARIMA(8, 0, 0) RMSE=65.877\n",
      "ARIMA(8, 0, 1) RMSE=56.323\n",
      "ARIMA(8, 0, 2) RMSE=56.088\n",
      "ARIMA(8, 0, 3) RMSE=56.303\n",
      "ARIMA(8, 0, 4) RMSE=56.071\n",
      "ARIMA(8, 0, 5) RMSE=54.891\n",
      "ARIMA(8, 0, 6) RMSE=63.209\n",
      "ARIMA(8, 0, 7) RMSE=59.855\n",
      "ARIMA(8, 0, 8) RMSE=60.922\n",
      "ARIMA(8, 0, 9) RMSE=65.396\n",
      "ARIMA(8, 1, 0) RMSE=17.956\n",
      "ARIMA(8, 1, 1) RMSE=16.243\n",
      "ARIMA(8, 1, 2) RMSE=65.910\n",
      "ARIMA(8, 1, 3) RMSE=17.842\n",
      "ARIMA(8, 1, 4) RMSE=30.187\n",
      "ARIMA(8, 1, 5) RMSE=43.625\n",
      "ARIMA(8, 1, 6) RMSE=32.136\n",
      "ARIMA(8, 1, 7) RMSE=37.568\n",
      "ARIMA(8, 1, 8) RMSE=31.526\n",
      "ARIMA(8, 1, 9) RMSE=31.185\n",
      "ARIMA(8, 2, 0) RMSE=19.312\n",
      "ARIMA(8, 2, 1) RMSE=17.949\n",
      "ARIMA(8, 2, 2) RMSE=19.310\n",
      "ARIMA(8, 2, 3) RMSE=15.922\n",
      "ARIMA(8, 2, 4) RMSE=33.375\n",
      "ARIMA(8, 2, 5) RMSE=28.899\n",
      "ARIMA(8, 2, 6) RMSE=33.823\n",
      "ARIMA(8, 2, 7) RMSE=38.384\n",
      "ARIMA(8, 2, 8) RMSE=43.884\n",
      "ARIMA(8, 2, 9) RMSE=37.616\n",
      "ARIMA(9, 0, 0) RMSE=60.436\n",
      "ARIMA(9, 0, 1) RMSE=55.725\n",
      "ARIMA(9, 0, 2) RMSE=55.898\n",
      "ARIMA(9, 0, 3) RMSE=54.255\n",
      "ARIMA(9, 0, 4) RMSE=55.746\n",
      "ARIMA(9, 0, 5) RMSE=55.345\n",
      "ARIMA(9, 0, 6) RMSE=78.110\n",
      "ARIMA(9, 0, 7) RMSE=67.680\n",
      "ARIMA(9, 0, 8) RMSE=60.857\n",
      "ARIMA(9, 0, 9) RMSE=62.483\n",
      "ARIMA(9, 1, 0) RMSE=17.117\n",
      "ARIMA(9, 1, 1) RMSE=17.073\n",
      "ARIMA(9, 1, 2) RMSE=45.803\n",
      "ARIMA(9, 1, 3) RMSE=28.131\n",
      "ARIMA(9, 1, 4) RMSE=31.967\n",
      "ARIMA(9, 1, 5) RMSE=28.047\n",
      "ARIMA(9, 1, 6) RMSE=26.934\n",
      "ARIMA(9, 1, 7) RMSE=65.155\n",
      "ARIMA(9, 1, 8) RMSE=47.291\n",
      "ARIMA(9, 1, 9) RMSE=32.146\n",
      "ARIMA(9, 2, 0) RMSE=43.376\n",
      "ARIMA(9, 2, 1) RMSE=17.130\n",
      "ARIMA(9, 2, 2) RMSE=17.268\n",
      "ARIMA(9, 2, 3) RMSE=17.593\n",
      "ARIMA(9, 2, 4) RMSE=15.092\n",
      "ARIMA(9, 2, 5) RMSE=28.098\n",
      "ARIMA(9, 2, 6) RMSE=48.986\n",
      "ARIMA(9, 2, 7) RMSE=50.773\n",
      "ARIMA(9, 2, 8) RMSE=48.233\n",
      "ARIMA(9, 2, 9) RMSE=53.197\n",
      "ARIMA(10, 0, 0) RMSE=52.245\n",
      "ARIMA(10, 0, 1) RMSE=52.839\n",
      "ARIMA(10, 0, 2) RMSE=53.009\n",
      "ARIMA(10, 0, 3) RMSE=61.059\n",
      "ARIMA(10, 0, 4) RMSE=63.601\n",
      "ARIMA(10, 0, 5) RMSE=59.618\n",
      "ARIMA(10, 0, 6) RMSE=59.344\n",
      "ARIMA(10, 0, 7) RMSE=60.546\n",
      "ARIMA(10, 0, 8) RMSE=71.285\n",
      "ARIMA(10, 0, 9) RMSE=70.690\n",
      "ARIMA(10, 1, 0) RMSE=18.049\n",
      "ARIMA(10, 1, 1) RMSE=17.138\n",
      "ARIMA(10, 1, 2) RMSE=43.401\n",
      "ARIMA(10, 1, 3) RMSE=43.876\n",
      "ARIMA(10, 1, 4) RMSE=75.170\n",
      "ARIMA(10, 1, 5) RMSE=59.529\n",
      "ARIMA(10, 1, 6) RMSE=52.520\n",
      "ARIMA(10, 1, 7) RMSE=27.988\n",
      "ARIMA(10, 1, 8) RMSE=27.534\n",
      "ARIMA(10, 1, 9) RMSE=57.551\n",
      "ARIMA(10, 2, 0) RMSE=50.389\n",
      "ARIMA(10, 2, 1) RMSE=18.141\n",
      "ARIMA(10, 2, 2) RMSE=18.460\n",
      "ARIMA(10, 2, 3) RMSE=26.430\n",
      "ARIMA(10, 2, 4) RMSE=31.308\n",
      "ARIMA(10, 2, 5) RMSE=32.038\n",
      "ARIMA(10, 2, 6) RMSE=31.607\n",
      "ARIMA(10, 2, 7) RMSE=47.136\n",
      "ARIMA(10, 2, 8) RMSE=59.781\n",
      "ARIMA(10, 2, 9) RMSE=58.474\n",
      "Best ARIMA(3, 2, 9) RMSE=11.820\n"
     ]
    }
   ],
   "source": [
    "p_values = [0, 1, 2,3, 4,5, 6,7, 8,9, 10]\n",
    "d_values = range(0, 3)\n",
    "q_values = range(0, 10)\n",
    "warnings.filterwarnings(\"ignore\")\n",
    "evaluate_models(train_df, p_values,d_values,q_values)"
   ]
  },
  {
   "cell_type": "markdown",
   "metadata": {},
   "source": [
    "# Best ARIMA (3, 2, 9) RMSE = 11.820"
   ]
  },
  {
   "cell_type": "code",
   "execution_count": 18,
   "metadata": {},
   "outputs": [
    {
     "name": "stdout",
     "output_type": "stream",
     "text": [
      "                                SARIMAX Results                                 \n",
      "================================================================================\n",
      "Dep. Variable:     hospitalizedIncrease   No. Observations:                  308\n",
      "Model:                   ARIMA(3, 0, 5)   Log Likelihood               -2258.051\n",
      "Date:                  Sun, 18 Apr 2021   AIC                           4536.103\n",
      "Time:                          10:13:36   BIC                           4573.404\n",
      "Sample:                               0   HQIC                          4551.017\n",
      "                                  - 308                                         \n",
      "Covariance Type:                    opg                                         \n",
      "==============================================================================\n",
      "                 coef    std err          z      P>|z|      [0.025      0.975]\n",
      "------------------------------------------------------------------------------\n",
      "const        197.0873    137.612      1.432      0.152     -72.626     466.801\n",
      "ar.L1          1.8648      0.279      6.672      0.000       1.317       2.413\n",
      "ar.L2         -1.3061      0.569     -2.295      0.022      -2.422      -0.191\n",
      "ar.L3          0.3910      0.353      1.107      0.268      -0.301       1.083\n",
      "ma.L1         -1.7894      0.294     -6.086      0.000      -2.366      -1.213\n",
      "ma.L2          1.1772      0.568      2.071      0.038       0.063       2.291\n",
      "ma.L3         -0.1363      0.317     -0.430      0.667      -0.757       0.485\n",
      "ma.L4         -0.3270      0.111     -2.946      0.003      -0.545      -0.109\n",
      "ma.L5          0.2201      0.060      3.668      0.000       0.102       0.338\n",
      "sigma2      1.458e+05   8011.476     18.202      0.000     1.3e+05    1.62e+05\n",
      "===================================================================================\n",
      "Ljung-Box (Q):                       18.14   Jarque-Bera (JB):             69932.37\n",
      "Prob(Q):                              1.00   Prob(JB):                         0.00\n",
      "Heteroskedasticity (H):               0.22   Skew:                             6.89\n",
      "Prob(H) (two-sided):                  0.00   Kurtosis:                        75.52\n",
      "===================================================================================\n",
      "\n",
      "Warnings:\n",
      "[1] Covariance matrix calculated using the outer product of gradients (complex-step).\n",
      "ARMA RMSE:47.844343150851316\n"
     ]
    }
   ],
   "source": [
    "# ARMA Forecast\n",
    "ARMA_model = ARIMA(train_df['hospitalizedIncrease'], order = (3 , 0,5))\n",
    "ARMA_model_fit = ARMA_model.fit()\n",
    "\n",
    "ARMA_forecast = ARMA_model_fit.forecast(steps = 7)\n",
    "\n",
    "ARMA_RMSE = sqrt(mean_squared_error(test_series,ARMA_forecast))\n",
    "\n",
    "warnings.filterwarnings(\"ignore\")\n",
    "\n",
    "print(ARMA_model_fit.summary())\n",
    "print('ARMA RMSE:' + str(ARMA_RMSE))"
   ]
  },
  {
   "cell_type": "code",
   "execution_count": 19,
   "metadata": {},
   "outputs": [],
   "source": [
    "# evaluate an ARMA model for a given order (p,d,q)\n",
    "def evaluate_arma_model(X, arima_order):\n",
    "    model = ARIMA(X['hospitalizedIncrease'], order = arima_order)\n",
    "    model_fit = model.fit()\n",
    "    forecast = model_fit.forecast(steps = 7)\n",
    "\n",
    "\n",
    "\n",
    "    ARMA_RMSE = sqrt(mean_squared_error(test_series, forecast))\n",
    "    return ARMA_RMSE\n"
   ]
  },
  {
   "cell_type": "code",
   "execution_count": 20,
   "metadata": {},
   "outputs": [],
   "source": [
    "def evaluate_arma_models(dataset, p_values, d_values, q_values):\n",
    "    dataset = dataset[:308]\n",
    "    best_score, best_cfg = float(\"inf\"), None\n",
    "    for p in p_values:\n",
    "        for d in d_values:\n",
    "            for q in q_values:\n",
    "                order = (p,d,q)\n",
    "                try:\n",
    "                    rmse = evaluate_arma_model(dataset, order)\n",
    "                    if rmse < best_score:\n",
    "                        best_score, best_cfg = rmse, order\n",
    "                    print('ARMA%s RMSE=%.3f' % (order,rmse))\n",
    "                except:\n",
    "                    continue\n",
    "    print('Best ARMA%s RMSE=%.3f' % (best_cfg, best_score))"
   ]
  },
  {
   "cell_type": "markdown",
   "metadata": {},
   "source": [
    "# Grid Search Hyper Parameters for ARMA"
   ]
  },
  {
   "cell_type": "code",
   "execution_count": 21,
   "metadata": {},
   "outputs": [
    {
     "name": "stdout",
     "output_type": "stream",
     "text": [
      "ARMA(0, 0, 0) RMSE=143.213\n",
      "ARMA(0, 0, 1) RMSE=140.772\n",
      "ARMA(0, 0, 2) RMSE=138.800\n",
      "ARMA(0, 0, 3) RMSE=131.694\n",
      "ARMA(0, 0, 4) RMSE=132.590\n",
      "ARMA(0, 0, 5) RMSE=131.334\n",
      "ARMA(0, 0, 6) RMSE=123.296\n",
      "ARMA(0, 0, 7) RMSE=119.132\n",
      "ARMA(0, 0, 8) RMSE=107.564\n",
      "ARMA(0, 0, 9) RMSE=100.982\n",
      "ARMA(1, 0, 0) RMSE=139.365\n",
      "ARMA(1, 0, 1) RMSE=72.498\n",
      "ARMA(1, 0, 2) RMSE=71.370\n",
      "ARMA(1, 0, 3) RMSE=65.726\n",
      "ARMA(1, 0, 4) RMSE=73.663\n",
      "ARMA(1, 0, 5) RMSE=55.073\n",
      "ARMA(1, 0, 6) RMSE=51.153\n",
      "ARMA(1, 0, 7) RMSE=51.326\n",
      "ARMA(1, 0, 8) RMSE=57.729\n",
      "ARMA(1, 0, 9) RMSE=51.161\n",
      "ARMA(2, 0, 0) RMSE=134.104\n",
      "ARMA(2, 0, 1) RMSE=71.539\n",
      "ARMA(2, 0, 2) RMSE=74.703\n",
      "ARMA(2, 0, 3) RMSE=68.445\n",
      "ARMA(2, 0, 4) RMSE=73.728\n",
      "ARMA(2, 0, 5) RMSE=50.697\n",
      "ARMA(2, 0, 6) RMSE=52.131\n",
      "ARMA(2, 0, 7) RMSE=51.554\n",
      "ARMA(2, 0, 8) RMSE=50.772\n",
      "ARMA(2, 0, 9) RMSE=51.069\n",
      "ARMA(3, 0, 0) RMSE=116.782\n",
      "ARMA(3, 0, 1) RMSE=122.615\n",
      "ARMA(3, 0, 2) RMSE=68.574\n",
      "ARMA(3, 0, 3) RMSE=72.208\n",
      "ARMA(3, 0, 4) RMSE=69.658\n",
      "ARMA(3, 0, 5) RMSE=47.844\n",
      "ARMA(3, 0, 6) RMSE=50.608\n",
      "ARMA(3, 0, 7) RMSE=52.007\n",
      "ARMA(3, 0, 8) RMSE=51.538\n",
      "ARMA(3, 0, 9) RMSE=49.506\n",
      "ARMA(4, 0, 0) RMSE=121.551\n",
      "ARMA(4, 0, 1) RMSE=121.662\n",
      "ARMA(4, 0, 2) RMSE=72.999\n",
      "ARMA(4, 0, 3) RMSE=69.518\n",
      "ARMA(4, 0, 4) RMSE=64.144\n",
      "ARMA(4, 0, 5) RMSE=62.757\n",
      "ARMA(4, 0, 6) RMSE=57.649\n",
      "ARMA(4, 0, 7) RMSE=50.789\n",
      "ARMA(4, 0, 8) RMSE=56.778\n",
      "ARMA(4, 0, 9) RMSE=70.285\n",
      "ARMA(5, 0, 0) RMSE=109.585\n",
      "ARMA(5, 0, 1) RMSE=63.245\n",
      "ARMA(5, 0, 2) RMSE=56.163\n",
      "ARMA(5, 0, 3) RMSE=55.906\n",
      "ARMA(5, 0, 4) RMSE=57.413\n",
      "ARMA(5, 0, 5) RMSE=78.336\n",
      "ARMA(5, 0, 6) RMSE=65.255\n",
      "ARMA(5, 0, 7) RMSE=70.246\n",
      "ARMA(5, 0, 8) RMSE=68.222\n",
      "ARMA(5, 0, 9) RMSE=69.709\n",
      "ARMA(6, 0, 0) RMSE=94.843\n",
      "ARMA(6, 0, 1) RMSE=59.380\n",
      "ARMA(6, 0, 2) RMSE=61.707\n",
      "ARMA(6, 0, 3) RMSE=55.765\n",
      "ARMA(6, 0, 4) RMSE=53.118\n",
      "ARMA(6, 0, 5) RMSE=58.831\n",
      "ARMA(6, 0, 6) RMSE=67.053\n",
      "ARMA(6, 0, 7) RMSE=70.334\n",
      "ARMA(6, 0, 8) RMSE=57.703\n",
      "ARMA(6, 0, 9) RMSE=70.535\n",
      "ARMA(7, 0, 0) RMSE=79.861\n",
      "ARMA(7, 0, 1) RMSE=56.806\n",
      "ARMA(7, 0, 2) RMSE=57.813\n",
      "ARMA(7, 0, 3) RMSE=56.789\n",
      "ARMA(7, 0, 4) RMSE=54.600\n",
      "ARMA(7, 0, 5) RMSE=54.983\n",
      "ARMA(7, 0, 6) RMSE=65.708\n",
      "ARMA(7, 0, 7) RMSE=61.937\n",
      "ARMA(7, 0, 8) RMSE=58.165\n",
      "ARMA(7, 0, 9) RMSE=66.233\n",
      "ARMA(8, 0, 0) RMSE=65.877\n",
      "ARMA(8, 0, 1) RMSE=56.323\n",
      "ARMA(8, 0, 2) RMSE=56.088\n",
      "ARMA(8, 0, 3) RMSE=56.303\n",
      "ARMA(8, 0, 4) RMSE=56.071\n",
      "ARMA(8, 0, 5) RMSE=54.891\n",
      "ARMA(8, 0, 6) RMSE=63.209\n",
      "ARMA(8, 0, 7) RMSE=59.855\n",
      "ARMA(8, 0, 8) RMSE=60.922\n",
      "ARMA(8, 0, 9) RMSE=65.396\n",
      "ARMA(9, 0, 0) RMSE=60.436\n",
      "ARMA(9, 0, 1) RMSE=55.725\n",
      "ARMA(9, 0, 2) RMSE=55.898\n",
      "ARMA(9, 0, 3) RMSE=54.255\n",
      "ARMA(9, 0, 4) RMSE=55.746\n",
      "ARMA(9, 0, 5) RMSE=55.345\n",
      "ARMA(9, 0, 6) RMSE=78.110\n",
      "ARMA(9, 0, 7) RMSE=67.680\n",
      "ARMA(9, 0, 8) RMSE=60.857\n",
      "ARMA(9, 0, 9) RMSE=62.483\n",
      "ARMA(10, 0, 0) RMSE=52.245\n",
      "ARMA(10, 0, 1) RMSE=52.839\n",
      "ARMA(10, 0, 2) RMSE=53.009\n",
      "ARMA(10, 0, 3) RMSE=61.059\n",
      "ARMA(10, 0, 4) RMSE=63.601\n",
      "ARMA(10, 0, 5) RMSE=59.618\n",
      "ARMA(10, 0, 6) RMSE=59.344\n",
      "ARMA(10, 0, 7) RMSE=60.546\n",
      "ARMA(10, 0, 8) RMSE=71.285\n",
      "ARMA(10, 0, 9) RMSE=70.690\n",
      "Best ARMA(3, 0, 5) RMSE=47.844\n"
     ]
    }
   ],
   "source": [
    "p_values = [0, 1, 2,3, 4,5, 6,7, 8,9, 10]\n",
    "d_values = range(0,1)\n",
    "q_values = range(0, 10)\n",
    "warnings.filterwarnings(\"ignore\")\n",
    "evaluate_arma_models(train_df, p_values,d_values,q_values)"
   ]
  },
  {
   "cell_type": "markdown",
   "metadata": {},
   "source": [
    "# Best ARMA(3,0,5) RMSE = 47.844"
   ]
  },
  {
   "cell_type": "code",
   "execution_count": 22,
   "metadata": {},
   "outputs": [
    {
     "data": {
      "text/plain": [
       "308     84.453796\n",
       "309     80.008303\n",
       "310     86.705018\n",
       "311     98.936230\n",
       "312    102.426015\n",
       "313    105.608586\n",
       "314    111.767311\n",
       "dtype: float64"
      ]
     },
     "execution_count": 22,
     "metadata": {},
     "output_type": "execute_result"
    }
   ],
   "source": [
    "# ARMA Forecast\n",
    "ARMA_forecast"
   ]
  },
  {
   "cell_type": "code",
   "execution_count": 23,
   "metadata": {},
   "outputs": [
    {
     "data": {
      "text/plain": [
       "308    45.261065\n",
       "309    64.177374\n",
       "310    54.058798\n",
       "311    49.250517\n",
       "312    56.208922\n",
       "313    45.713801\n",
       "314    43.721982\n",
       "dtype: float64"
      ]
     },
     "execution_count": 23,
     "metadata": {},
     "output_type": "execute_result"
    }
   ],
   "source": [
    "# ARIMA Forecast\n",
    "forecast"
   ]
  },
  {
   "cell_type": "code",
   "execution_count": 24,
   "metadata": {},
   "outputs": [
    {
     "data": {
      "image/png": "[encoded data removed]",
      "text/plain": [
       "<Figure size 1152x576 with 4 Axes>"
      ]
     },
     "metadata": {
      "needs_background": "light"
     },
     "output_type": "display_data"
    }
   ],
   "source": [
    "# ARMA Plot Diagnostics\n",
    "ARMA_model_fit.plot_diagnostics(figsize = (16,8))\n",
    "plt.show()"
   ]
  },
  {
   "cell_type": "code",
   "execution_count": null,
   "metadata": {},
   "outputs": [],
   "source": [
    "# Look into good assumptions\n",
    "\n",
    "# Standard residual - normal behaviour, outliers"
   ]
  },
  {
   "cell_type": "code",
   "execution_count": 25,
   "metadata": {},
   "outputs": [
    {
     "data": {
      "image/png": "[encoded data removed]",
      "text/plain": [
       "<Figure size 432x288 with 1 Axes>"
      ]
     },
     "metadata": {
      "needs_background": "light"
     },
     "output_type": "display_data"
    }
   ],
   "source": [
    "# ARMA line plot of residuals\n",
    "ARMA_residuals = DataFrame(ARMA_model_fit.resid)\n",
    "ARMA_residuals.plot()\n",
    "pyplot.show()\n",
    "\n",
    "# Residual plot is constant as we want"
   ]
  },
  {
   "cell_type": "code",
   "execution_count": 26,
   "metadata": {},
   "outputs": [
    {
     "data": {
      "image/png": "[encoded data removed]",
      "text/plain": [
       "<Figure size 432x288 with 1 Axes>"
      ]
     },
     "metadata": {
      "needs_background": "light"
     },
     "output_type": "display_data"
    }
   ],
   "source": [
    "# ARMA Density plot of residuals\n",
    "ARMA_residuals.plot(kind = 'kde')\n",
    "pyplot.show()\n",
    "\n",
    "# Plot indicates values are normally distributed"
   ]
  },
  {
   "cell_type": "code",
   "execution_count": 27,
   "metadata": {},
   "outputs": [
    {
     "name": "stdout",
     "output_type": "stream",
     "text": [
      "                 0\n",
      "count   308.000000\n",
      "mean     -1.148013\n",
      "std     369.332441\n",
      "min   -1125.597728\n",
      "25%     -82.959849\n",
      "50%     -52.175677\n",
      "75%      15.116215\n",
      "max    4436.446954\n"
     ]
    }
   ],
   "source": [
    "print(ARMA_residuals.describe())"
   ]
  },
  {
   "cell_type": "code",
   "execution_count": 28,
   "metadata": {},
   "outputs": [
    {
     "data": {
      "text/plain": [
       "308    45.261065\n",
       "309    64.177374\n",
       "310    54.058798\n",
       "311    49.250517\n",
       "312    56.208922\n",
       "313    45.713801\n",
       "314    43.721982\n",
       "dtype: float64"
      ]
     },
     "execution_count": 28,
     "metadata": {},
     "output_type": "execute_result"
    }
   ],
   "source": [
    "# ARIMA Forecast\n",
    "forecast = model_fit.forecast(steps = 7)\n",
    "warnings.filterwarnings(\"ignore\")\n",
    "\n",
    "forecast"
   ]
  },
  {
   "cell_type": "code",
   "execution_count": 29,
   "metadata": {},
   "outputs": [
    {
     "data": {
      "image/png": "[encoded data removed]",
      "text/plain": [
       "<Figure size 1152x576 with 4 Axes>"
      ]
     },
     "metadata": {
      "needs_background": "light"
     },
     "output_type": "display_data"
    }
   ],
   "source": [
    "# ARIMA Plot Diagnostics\n",
    "model_fit.plot_diagnostics(figsize = (16,8))\n",
    "plt.show()"
   ]
  },
  {
   "cell_type": "code",
   "execution_count": null,
   "metadata": {},
   "outputs": [],
   "source": [
    "# Correlogram Time Autocorrelation, typically autocorrelation is large when lag is small"
   ]
  },
  {
   "cell_type": "code",
   "execution_count": null,
   "metadata": {},
   "outputs": [],
   "source": [
    "# Why there is noise in certain regions\n",
    "# Maybe remove outliers, doing interpretation"
   ]
  },
  {
   "cell_type": "code",
   "execution_count": 30,
   "metadata": {},
   "outputs": [
    {
     "data": {
      "image/png": "[encoded data removed]",
      "text/plain": [
       "<Figure size 432x288 with 1 Axes>"
      ]
     },
     "metadata": {
      "needs_background": "light"
     },
     "output_type": "display_data"
    }
   ],
   "source": [
    "# line plot of residuals\n",
    "residuals = DataFrame(model_fit.resid)\n",
    "residuals.plot()\n",
    "pyplot.show()\n",
    "\n",
    "# Residual plot is constant as we want"
   ]
  },
  {
   "cell_type": "code",
   "execution_count": 31,
   "metadata": {},
   "outputs": [
    {
     "data": {
      "image/png": "[encoded data removed]",
      "text/plain": [
       "<Figure size 432x288 with 1 Axes>"
      ]
     },
     "metadata": {
      "needs_background": "light"
     },
     "output_type": "display_data"
    }
   ],
   "source": [
    "# Density plot of residuals\n",
    "residuals.plot(kind = 'kde')\n",
    "pyplot.show()\n",
    "\n",
    "# Plot indicates values are normally distributed"
   ]
  },
  {
   "cell_type": "code",
   "execution_count": 32,
   "metadata": {},
   "outputs": [
    {
     "name": "stdout",
     "output_type": "stream",
     "text": [
      "                 0\n",
      "count   308.000000\n",
      "mean     -5.467820\n",
      "std     373.606061\n",
      "min   -1412.872770\n",
      "25%     -79.276503\n",
      "50%     -11.823746\n",
      "75%      34.260574\n",
      "max    4272.187800\n"
     ]
    }
   ],
   "source": [
    "print(residuals.describe())"
   ]
  },
  {
   "cell_type": "markdown",
   "metadata": {},
   "source": [
    "# A non-zero mean in the residuals means that there is a bias in the prediction"
   ]
  },
  {
   "cell_type": "code",
   "execution_count": 33,
   "metadata": {},
   "outputs": [],
   "source": [
    "# evaluate an ARIMA model using a walk-forward validation\n",
    "from pandas import read_csv\n",
    "from pandas import datetime\n",
    "from matplotlib import pyplot\n",
    "from statsmodels.tsa.arima.model import ARIMA\n",
    "from sklearn.metrics import mean_squared_error\n",
    "from math import sqrt\n"
   ]
  },
  {
   "cell_type": "code",
   "execution_count": 34,
   "metadata": {},
   "outputs": [
    {
     "data": {
      "text/plain": [
       "308    45.261065\n",
       "309    64.177374\n",
       "310    54.058798\n",
       "311    49.250517\n",
       "312    56.208922\n",
       "313    45.713801\n",
       "314    43.721982\n",
       "dtype: float64"
      ]
     },
     "execution_count": 34,
     "metadata": {},
     "output_type": "execute_result"
    }
   ],
   "source": [
    "forecast = model_fit.forecast(steps = 7)\n",
    "forecast"
   ]
  },
  {
   "cell_type": "code",
   "execution_count": 35,
   "metadata": {},
   "outputs": [
    {
     "data": {
      "text/plain": [
       "0    45.261065\n",
       "1    64.177374\n",
       "2    54.058798\n",
       "3    49.250517\n",
       "4    56.208922\n",
       "5    45.713801\n",
       "6    43.721982\n",
       "dtype: float64"
      ]
     },
     "execution_count": 35,
     "metadata": {},
     "output_type": "execute_result"
    }
   ],
   "source": [
    "forecast = forecast.reset_index(drop = True)\n",
    "forecast"
   ]
  },
  {
   "cell_type": "code",
   "execution_count": 36,
   "metadata": {},
   "outputs": [
    {
     "data": {
      "text/plain": [
       "0     84.453796\n",
       "1     80.008303\n",
       "2     86.705018\n",
       "3     98.936230\n",
       "4    102.426015\n",
       "5    105.608586\n",
       "6    111.767311\n",
       "dtype: float64"
      ]
     },
     "execution_count": 36,
     "metadata": {},
     "output_type": "execute_result"
    }
   ],
   "source": [
    "ARMA_forecast = ARMA_forecast.reset_index(drop = True)\n",
    "ARMA_forecast"
   ]
  },
  {
   "cell_type": "code",
   "execution_count": 37,
   "metadata": {},
   "outputs": [
    {
     "data": {
      "text/plain": [
       "358.3924599665569"
      ]
     },
     "execution_count": 37,
     "metadata": {},
     "output_type": "execute_result"
    }
   ],
   "source": [
    "sum(forecast)"
   ]
  },
  {
   "cell_type": "code",
   "execution_count": 38,
   "metadata": {},
   "outputs": [
    {
     "data": {
      "text/plain": [
       "383"
      ]
     },
     "execution_count": 38,
     "metadata": {},
     "output_type": "execute_result"
    }
   ],
   "source": [
    "sum(test_series)"
   ]
  },
  {
   "cell_type": "code",
   "execution_count": 39,
   "metadata": {},
   "outputs": [
    {
     "data": {
      "text/plain": [
       "669.9052579456547"
      ]
     },
     "execution_count": 39,
     "metadata": {},
     "output_type": "execute_result"
    }
   ],
   "source": [
    "sum(ARMA_forecast)"
   ]
  },
  {
   "cell_type": "code",
   "execution_count": 40,
   "metadata": {},
   "outputs": [],
   "source": [
    "def mean_abs_perc_err(y_true, y_pred): \n",
    "    return np.mean(np.abs((y_true - y_pred) / y_true)) * 100"
   ]
  },
  {
   "cell_type": "markdown",
   "metadata": {},
   "source": [
    "# ARIMA MSE and MAPE"
   ]
  },
  {
   "cell_type": "code",
   "execution_count": 41,
   "metadata": {},
   "outputs": [
    {
     "name": "stdout",
     "output_type": "stream",
     "text": [
      "MSE: 139.71886062441445\n",
      "Mean Absolute % Error (MAPE):  17.536392984164873\n",
      "RMSE: 11.820273288905568\n"
     ]
    }
   ],
   "source": [
    "MSE = np.square(np.subtract(test_series, forecast)).mean()\n",
    "ARIMA_RMSE = sqrt(mean_squared_error(test_series, forecast))\n",
    "\n",
    "print('MSE: '+ str(MSE))\n",
    "print(\"Mean Absolute % Error (MAPE): \", mean_abs_perc_err(y_true = test_series, y_pred = forecast))\n",
    "print('RMSE: ' + str(ARIMA_RMSE))"
   ]
  },
  {
   "cell_type": "markdown",
   "metadata": {},
   "source": [
    "# ARMA Error Statistics"
   ]
  },
  {
   "cell_type": "code",
   "execution_count": 42,
   "metadata": {},
   "outputs": [
    {
     "name": "stdout",
     "output_type": "stream",
     "text": [
      "MSE: 2289.0811715364134\n",
      "Mean Absolute % Error (MAPE):  93.56635845845334\n",
      "RMSE: 47.844343150851316\n"
     ]
    }
   ],
   "source": [
    "ARMA_MSE = np.square(np.subtract(test_series, ARMA_forecast)).mean()\n",
    "ARMA_RMSE = sqrt(mean_squared_error(test_series,ARMA_forecast))\n",
    "print('MSE: '+ str(ARMA_MSE))\n",
    "print(\"Mean Absolute % Error (MAPE): \", mean_abs_perc_err(y_true = test_series, y_pred = ARMA_forecast))\n",
    "print('RMSE: ' + str(ARMA_RMSE))"
   ]
  },
  {
   "cell_type": "markdown",
   "metadata": {},
   "source": [
    "# The ARIMA model performs significantly better than the ARMA model with a RMSE of 11.8 compared to 47.8"
   ]
  },
  {
   "cell_type": "code",
   "execution_count": null,
   "metadata": {},
   "outputs": [],
   "source": []
  }
 ],
 "metadata": {
  "kernelspec": {
   "display_name": "Python 3",
   "language": "python",
   "name": "python3"
  },
  "language_info": {
   "codemirror_mode": {
    "name": "ipython",
    "version": 3
   },
   "file_extension": ".py",
   "mimetype": "text/x-python",
   "name": "python",
   "nbconvert_exporter": "python",
   "pygments_lexer": "ipython3",
   "version": "3.8.3"
  }
 },
 "nbformat": 4,
 "nbformat_minor": 4
}
